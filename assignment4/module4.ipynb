{
 "cells": [
  {
   "cell_type": "markdown",
   "metadata": {},
   "source": [
    "# Module 4\n",
    "## Module 4A Functions\n",
    "- Now that you've seen the basic Python data types and control structures, and\n",
    "have seen some code snippets, it's time to learn how to organize your code\n",
    "- It might be tempting to write big long programs in one continuous block of\n",
    "code...\n",
    "- However, this is a recipe for disaster!\n"
   ]
  },
  {
   "cell_type": "markdown",
   "metadata": {},
   "source": [
    "- Writing a big continuous block of code would be like filing all\n",
    "your paperwork in a single drawer, without folders or\n",
    "organization\n",
    "- It would make finding an individual document very difficult\n",
    "and confusing, as you'd have to sift through the whole pile,\n",
    "not really knowing how anything is organized"
   ]
  },
  {
   "cell_type": "markdown",
   "metadata": {},
   "source": [
    "- Nobody would run an office like that! (Hopefully)\n",
    "- In a competent office, files would be organized into labeled\n",
    "folders that contain similar documents\n",
    "- This way you would know that all the related documents can\n",
    "be found in the same place\n"
   ]
  },
  {
   "cell_type": "markdown",
   "metadata": {},
   "source": [
    "- Similarly, code can be organized into \"functions\" in Python (and\n",
    "most programming languages)\n",
    "- Functions group blocks of code that are part of performing a\n",
    "related operation or task\n",
    "- Functions also allow your code to become reusable or modular,\n",
    "preventing you from writing the same code over and over again\n",
    "to accomplish the same task\n",
    "- Let's look at a simple function and then analyze the different\n",
    "parts"
   ]
  },
  {
   "cell_type": "code",
   "execution_count": 2,
   "metadata": {},
   "outputs": [],
   "source": [
    "def calc_average(mynumberlist):\n",
    "    '''This function calculates the average of a list of numbers.'''\n",
    "    sum = 0\n",
    "    for number in mynumberlist:\n",
    "        sum = sum + number \n",
    "    \n",
    "    avg = sum / len(mynumberlist)\n",
    "    return avg "
   ]
  },
  {
   "cell_type": "markdown",
   "metadata": {},
   "source": [
    "There are 6 main components that make a function:\n",
    "1. def -> tells Python you're about to define a new function\n",
    "2. calc_average -> the name of the function\n",
    "3. mynumberlist -> an optional function argument (more on that in a\n",
    "minute)\n",
    "4. Docstring that explains what the function does\n",
    "5. The code to execute\n",
    "6. return -> returns information back to the code that called the\n",
    "function\n"
   ]
  },
  {
   "cell_type": "markdown",
   "metadata": {},
   "source": [
    "If you defined the previous function, you could use it anywhere in your code\n",
    "without having to write the same code over and over. You might use it like this:\n",
    "```\n",
    "my_numbers = [1, 2, 3, 4, 5]\n",
    "avg = calc_average(my_numbers)\n",
    "print(\"The average is:\", avg)\n",
    "```\n"
   ]
  },
  {
   "cell_type": "code",
   "execution_count": 3,
   "metadata": {},
   "outputs": [
    {
     "name": "stdout",
     "output_type": "stream",
     "text": [
      "The average is: 3.0\n"
     ]
    }
   ],
   "source": [
    "my_numbers = [1, 2, 3, 4, 5]\n",
    "avg = calc_average(my_numbers)\n",
    "print(\"The average is:\", avg)"
   ]
  },
  {
   "cell_type": "code",
   "execution_count": 4,
   "metadata": {},
   "outputs": [
    {
     "name": "stdout",
     "output_type": "stream",
     "text": [
      "The average is: 3.0\n"
     ]
    }
   ],
   "source": [
    "# Or stated more simply:\n",
    "print(\"The average is:\", calc_average([1, 2, 3, 4, 5]))"
   ]
  },
  {
   "cell_type": "markdown",
   "metadata": {},
   "source": [
    "- When \"chaining\" functions, like the previous simple example, you\n",
    "need to be careful that it will behave as expected, since the order\n",
    "can matter greatly in different situations\n",
    "- The print command we've used since the beginning is also a\n",
    "function, called a built-in function\n",
    "- Whenever you call the print function, code runs behind the scenes\n",
    "to interpret and format the data you feed it so it can be printed to\n",
    "the screen\n"
   ]
  },
  {
   "cell_type": "markdown",
   "metadata": {},
   "source": [
    "Back to the function arguments...\n",
    "- What exactly is an argument?\n",
    "\n",
    "Think of a function as a magic black box with information coming\n",
    "into it, doing something magical to it, and then spitting out an\n",
    "answer\n",
    "\n",
    "The argument is the input to the black box, or the information\n",
    "you're going to operate on\n",
    "\n",
    "``` \n",
    "calc_average(mynumberlist)\n",
    "```\n",
    "- Some functions don't require arguments and could operate on\n",
    "global variables\n"
   ]
  },
  {
   "cell_type": "markdown",
   "metadata": {},
   "source": [
    "What's a global variable?\n",
    "- We'll cover something called \"variable scope\" soon, as it\n",
    "relates to functions, then as it relates to classes\n",
    "- For today, you just need to know that what happens inside the\n",
    "function magic black box is completely contained\n",
    "- In other words the \"mynumberlist\" argument to our\n",
    "calc_average function, dominates inside the function, even if\n",
    "there are other variables floating around outside with the\n",
    "exact same name\n"
   ]
  },
  {
   "cell_type": "code",
   "execution_count": 5,
   "metadata": {},
   "outputs": [],
   "source": [
    "def factorial(num):\n",
    "    \"\"\"This function calculates the factorial of num.\"\"\"\n",
    "    if num == 1:\n",
    "        return 1\n",
    "    else:\n",
    "        return num * factorial(num - 1)"
   ]
  },
  {
   "cell_type": "code",
   "execution_count": 6,
   "metadata": {},
   "outputs": [
    {
     "name": "stdout",
     "output_type": "stream",
     "text": [
      "120\n"
     ]
    }
   ],
   "source": [
    "print(factorial(5))"
   ]
  },
  {
   "cell_type": "markdown",
   "metadata": {},
   "source": [
    "\n",
    "You can find more information about functions here:\n",
    "\n",
    "• https://docs.python.org/3.6/tutorial/controlflow.html#defining-functions\n",
    "\n",
    "• https://docs.python.org/3.6/reference/compound_stmts.html#function-definitions\n",
    "\n",
    "• https://www.python.org/dev/peps/pep-0008/#function-and-variable-names \n",
    "\n",
    "• You can learn more about how to use functions here:\n",
    "\n",
    "• Head First Python, 2nd Edition\n",
    "\n",
    "• Page 146-150, 154, 156-159, 162-164, 170-172\n"
   ]
  },
  {
   "cell_type": "markdown",
   "metadata": {},
   "source": [
    "## Topic Challenge\n",
    "\n",
    "- Login to Learn and navigate to today's module.\n",
    "- Solve the problems.\n",
    "- Feel free to use the average function presented in today's class.\n",
    "- Feel free to use the Python cmd interpreter."
   ]
  },
  {
   "cell_type": "markdown",
   "metadata": {},
   "source": [
    "## Module 4B - Simple Classes \n",
    "\n",
    "- Python (and most programming languages) have more data structures than just functions available\n",
    "- Another useful structure is a class\n",
    "- A class is like a container that hold lots of similar code together\n",
    "- It can hold different kinds of variables, as well as functions\n",
    "- A class acts like a template that you can copy to make new instances\n",
    "- Think of a cookie cutter: it cuts cookies of exactly the same shape and size, but each one is unique\n"
   ]
  },
  {
   "cell_type": "code",
   "execution_count": 7,
   "metadata": {},
   "outputs": [
    {
     "name": "stdout",
     "output_type": "stream",
     "text": [
      "Color index is: 2\n"
     ]
    }
   ],
   "source": [
    "class Color():\n",
    "    YELLOW = 1\n",
    "    RED = 2\n",
    "    BLUE = 3\n",
    "\n",
    "print(\"Color index is:\", Color.RED)"
   ]
  },
  {
   "cell_type": "markdown",
   "metadata": {},
   "source": [
    "### class\n",
    "- Tells Python that the indented code underneath is a class\n",
    "###  Color()\n",
    "- The name of the class\n",
    "- According to PEP8, class names should follow the CapWords (or CamelCase) convention\n",
    "- The brackets should be empty in a simple class, they'll be used when we explore more advanced class usage\n"
   ]
  },
  {
   "cell_type": "markdown",
   "metadata": {},
   "source": [
    "If your class is small, you could define it \"in-line\" right in your code and then use it wherever needed, like the previous example\n",
    "\n",
    "If your class is longer, you can create its own file, import it into your code, then use it wherever needed \n",
    "\n",
    "We'll cover how to import code modules and classes into your code soon"
   ]
  },
  {
   "cell_type": "markdown",
   "metadata": {},
   "source": [
    "You can find more information about classes here:\n",
    "- https://www.python.org/dev/peps/pep-0008/#class-names\n",
    "- https://docs.python.org/3.6/tutorial/classes.html#a-first-look-at-classes\n",
    "\n",
    "• You can learn more about how to use classes here:\n",
    "\n",
    "• Head First Python, 2nd Edition\n",
    "\n",
    "• Page 311-313\n"
   ]
  },
  {
   "cell_type": "markdown",
   "metadata": {},
   "source": [
    "## Topic Challenge\n",
    "\n",
    "• Login to Learn and navigate to today's module.\n",
    "\n",
    "• Evaluate the statements.\n",
    "\n",
    "• Feel free to use the Python cmd interpreter."
   ]
  },
  {
   "cell_type": "markdown",
   "metadata": {},
   "source": [
    "## Module 4C - Advanced Classes\n",
    "\n",
    "When a class is created to be used in your code, it is \"instantiated\"\n",
    "\n",
    "When a class is instantiated, it basically makes a copy of the cookie cutter template and creates a standalone class instance based on that template\n",
    "\n",
    "So when you define a class, you are defining the template that all objects created from that class will look like\n",
    "\n",
    "When you instantiate a class object, you are creating a copy (instance) of the class based on the template\n",
    "\n",
    "The instantiated class attribute and method states are unique to a particular instance (in most cases)\n"
   ]
  },
  {
   "cell_type": "markdown",
   "metadata": {},
   "source": [
    "- When a class is instantiated, it runs a special method (function) that allows you\n",
    "to initialize any variables or perform any special setup required\n",
    "- This method is called: ``` __init__ ```\n",
    "- Double underscores in Python are known as \"dunder\"\n",
    "- Whenever you see a dunder, it means it is a \"magic\" method\n",
    "- In other words, dunder methods are internal functions built into Python\n",
    "- So you should never name a variable or function using dunders, except in\n",
    "special circumstances (see reading reference on last slide*)\n"
   ]
  },
  {
   "cell_type": "markdown",
   "metadata": {},
   "source": [
    "Another special consideration in classes is the use of \"self\"\n",
    "\n",
    "When declaring variables in a class, they should typically be\n",
    "declared in ``` __init__ ``` with a self prefix\n",
    "\n",
    "```\n",
    "def __init__(self):\n",
    "    self.x = 7\n",
    "    self.mylist = []\n",
    "```"
   ]
  },
  {
   "cell_type": "markdown",
   "metadata": {},
   "source": [
    "What's the deal with \"self\" anyway?\n",
    "\n",
    "- Basically, self is Pythons way of telling the class which instance it is working with\n",
    "- It's beyond the scope of this course, but you can do more reading about the subject, see the last slide for details**\n",
    "- Suffice it to say, all global variables in a class must have the self prefix, and all methods (functions) in a class must have \"self\" as their very first argument\n",
    "- Let's look at a simple example...\n"
   ]
  },
  {
   "cell_type": "code",
   "execution_count": 8,
   "metadata": {},
   "outputs": [],
   "source": [
    "class Employee():\n",
    "    \"\"\"This class contains employee data.\"\"\"\n",
    "    def __init__(self, id, name, income):\n",
    "        self.name = name\n",
    "        self.id = id\n",
    "        self.income = income\n",
    "    def income_taxes(self):\n",
    "        \"\"\"This function calculates taxes based on income.\"\"\"\n",
    "        rate = 0.20\n",
    "        return rate * self.income"
   ]
  },
  {
   "cell_type": "code",
   "execution_count": 9,
   "metadata": {},
   "outputs": [
    {
     "name": "stdout",
     "output_type": "stream",
     "text": [
      "Gru Badguy (ID: 1234) income tax owing:  19800.0\n",
      "Agnes Teenager (ID: 2222) income tax owing:  9800.0\n"
     ]
    }
   ],
   "source": [
    "# Let's instantiate our employee class\n",
    "employee1 = Employee(1234, \"Gru Badguy\", 99000)\n",
    "employee2 = Employee(2222, \"Agnes Teenager\", 49000)\n",
    "print(employee1.name, \"(ID: \" + str(employee1.id) + \")\", \"income tax owing: \", employee1.income_taxes())\n",
    "print(employee2.name, \"(ID: \" + str(employee2.id) + \")\", \"income tax owing: \", employee2.income_taxes())"
   ]
  },
  {
   "cell_type": "markdown",
   "metadata": {},
   "source": [
    "A few thoughts on the example...\n",
    "\n",
    "- You can create (instantiate) as many employees from the class (template) as you like\n",
    "- Each employee has exactly the same structure, but is separate and contains unique data\n",
    "- We provided starting values for id, name and income when we instantiated the class\n",
    "- That's a convenient way to initialize variables, but we can change them at any time!\n",
    "- The variables declared in ``` __init__ ``` with prefix \"self\" are accessible anywhere\n",
    "\n"
   ]
  },
  {
   "cell_type": "code",
   "execution_count": 14,
   "metadata": {},
   "outputs": [
    {
     "name": "stdout",
     "output_type": "stream",
     "text": [
      "55555 Kevin Minion 200000.0\n"
     ]
    }
   ],
   "source": [
    "employee1.name = \"Kevin Minion\"\n",
    "employee1.id = 55555\n",
    "employee1.income = 1000000\n",
    "print(employee1.id, employee1.name, employee1.income_taxes())"
   ]
  },
  {
   "cell_type": "markdown",
   "metadata": {},
   "source": [
    "You can find more information about classes here:\n",
    "\n",
    "- https://docs.python.org/3.6/tutorial/classes.html#a-first-look-at-classes\n",
    "- https://docs.python.org/3.6/tutorial/classes.html#private-variables\n",
    "\n",
    "You can learn more about how to use classes here:\n",
    "\n",
    "Head First Python, 2nd Edition\n",
    "\n",
    "- Page 311-320, 322-325, 332\n",
    "- Page 319-320\n"
   ]
  },
  {
   "cell_type": "markdown",
   "metadata": {},
   "source": [
    "## Topic Challenge\n",
    "\n",
    "Login to Learn and navigate to today's module.\n",
    "\n",
    "• Solve the problem.\n",
    "\n",
    "• Feel free to use the Python interpreter and any class examples that have been\n",
    "presented."
   ]
  }
 ],
 "metadata": {
  "kernelspec": {
   "display_name": "Python 3.10.7 64-bit (microsoft store)",
   "language": "python",
   "name": "python3"
  },
  "language_info": {
   "codemirror_mode": {
    "name": "ipython",
    "version": 3
   },
   "file_extension": ".py",
   "mimetype": "text/x-python",
   "name": "python",
   "nbconvert_exporter": "python",
   "pygments_lexer": "ipython3",
   "version": "3.10.10"
  },
  "orig_nbformat": 4,
  "vscode": {
   "interpreter": {
    "hash": "c7a023bdb92e9d62c67d407ca61a74f815661c3e1d2c06d1d167ea2b207233a6"
   }
  }
 },
 "nbformat": 4,
 "nbformat_minor": 2
}
